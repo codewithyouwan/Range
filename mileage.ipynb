{
 "cells": [
  {
   "cell_type": "code",
   "execution_count": 131,
   "metadata": {},
   "outputs": [],
   "source": [
    "import numpy as np\n",
    "import pandas as pd\n",
    "import matplotlib.pyplot as plt\n",
    "import datetime"
   ]
  },
  {
   "cell_type": "code",
   "execution_count": 132,
   "metadata": {},
   "outputs": [],
   "source": [
    "def to_seconds(str):\n",
    "        splitted=str.split(':')\n",
    "        return (int(splitted[0])*3600+int(splitted[1])*60+int(splitted[2]))\n",
    "\n",
    "def string_split(str):\n",
    "    a=str.split('/')\n",
    "    day,month,year=int(a[0]),int(a[1]),int(a[2])\n",
    "    return datetime.datetime(day=day,month=month,year=2000+year)\n",
    "def month(str):\n",
    "        month=str.split('/')[1]\n",
    "        months={1:'January',2:'Feburary',3:'March',4:'April',5:'May',6:'June',7:'July',8:'August',9:'September',10:'October',11:'November',12:'December'}\n",
    "        return months[int(month)]"
   ]
  },
  {
   "cell_type": "code",
   "execution_count": 168,
   "metadata": {},
   "outputs": [],
   "source": [
    "class Data:\n",
    "    #This is the main dataFrame or the parent Dataframe\n",
    "    df=pd.DataFrame({})\n",
    "    #This is the child dataFrame derived from the first one.\n",
    "    df2=pd.DataFrame({})\n",
    "    MileageArray=np.array([])\n",
    "    #For storing the average speeds of the given data\n",
    "    Speeds=np.array([])\n",
    "    #For storing all the unique dates in the given data\n",
    "    dates=np.array([])\n",
    "     #In the constructor we are doing all the precalculations like:\n",
    "    '''\n",
    "        1. Sorting the data according to date and time\n",
    "        2. Reseting the indices after the sorting\n",
    "        3. Defining the Energy Column\n",
    "        4. Defining the Energy Consumed Column\n",
    "        5. Identifying all the unique dates and storing it in 'dates'.\n",
    "    '''\n",
    "    def __init__(self,dataframe):\n",
    "        self.df=dataframe\n",
    "        \n",
    "\n",
    "        '''Here we are sorting the data on the basis of both date and time'''\n",
    "        self.df['DateModified']=self.df['date'].map(string_split)\n",
    "        self.df['Time_seconds']=self.df['time'].map(to_seconds)\n",
    "        self.df.sort_values(['DateModified','Time_seconds'],inplace=True)\n",
    "        self.df.reset_index(inplace=True,drop=True)\n",
    "        self.df['Energy_Wh']=(self.df['cummulativeDischarge']*self.df['batVolt'])/1000\n",
    "        self.df['EnergyConsumed']=(self.df['Energy_Wh']).diff(1).fillna(np.nan)\n",
    "        self.df['Month']=self.df['date'].map(month)\n",
    "        \n",
    "        self.df2=self.df.drop(self.df.loc[self.df['EnergyConsumed']<=0].index)\n",
    "        \n",
    "        self.dates=self.df2['date'].unique()\n",
    "        self.CalTimeDifference()\n",
    "    #Here in this function we are calculating the Time Difference between the columns of the function.\n",
    "    def CalTimeDifference(self):\n",
    "        for i in self.dates:\n",
    "            self.df.loc[self.df['date']==i,'TimeDifference']=(self.df.loc[self.df['date']==i,'Time_seconds']-(self.df.loc[self.df['date']==i,'Time_seconds'].shift(1).fillna(0)))"
   ]
  },
  {
   "cell_type": "code",
   "execution_count": 169,
   "metadata": {},
   "outputs": [],
   "source": [
    "columns_to_pick=['date','time','speed','odo','batVolt','batCurrent','cummulativeCharge','cummulativeDischarge','chargeStatus','dischargeStatus']\n",
    "df=pd.read_csv('1monthdata.csv',usecols=columns_to_pick)\n",
    "#loading the one month data\n",
    "OneMonth=Data(df)"
   ]
  },
  {
   "cell_type": "code",
   "execution_count": 170,
   "metadata": {},
   "outputs": [
    {
     "data": {
      "text/html": [
       "<div>\n",
       "<style scoped>\n",
       "    .dataframe tbody tr th:only-of-type {\n",
       "        vertical-align: middle;\n",
       "    }\n",
       "\n",
       "    .dataframe tbody tr th {\n",
       "        vertical-align: top;\n",
       "    }\n",
       "\n",
       "    .dataframe thead th {\n",
       "        text-align: right;\n",
       "    }\n",
       "</style>\n",
       "<table border=\"1\" class=\"dataframe\">\n",
       "  <thead>\n",
       "    <tr style=\"text-align: right;\">\n",
       "      <th></th>\n",
       "      <th>date</th>\n",
       "      <th>time</th>\n",
       "      <th>speed</th>\n",
       "      <th>odo</th>\n",
       "      <th>batVolt</th>\n",
       "      <th>batCurrent</th>\n",
       "      <th>cummulativeCharge</th>\n",
       "      <th>cummulativeDischarge</th>\n",
       "      <th>chargeStatus</th>\n",
       "      <th>dischargeStatus</th>\n",
       "      <th>DateModified</th>\n",
       "      <th>Time_seconds</th>\n",
       "      <th>Energy_Wh</th>\n",
       "      <th>EnergyConsumed</th>\n",
       "      <th>Month</th>\n",
       "      <th>TimeDifference</th>\n",
       "    </tr>\n",
       "  </thead>\n",
       "  <tbody>\n",
       "    <tr>\n",
       "      <th>0</th>\n",
       "      <td>01/02/23</td>\n",
       "      <td>0:00:04</td>\n",
       "      <td>0</td>\n",
       "      <td>5552</td>\n",
       "      <td>55.6</td>\n",
       "      <td>0.0</td>\n",
       "      <td>2208.14</td>\n",
       "      <td>2426.70</td>\n",
       "      <td>0</td>\n",
       "      <td>0</td>\n",
       "      <td>2023-02-01</td>\n",
       "      <td>4</td>\n",
       "      <td>134.924520</td>\n",
       "      <td>NaN</td>\n",
       "      <td>Feburary</td>\n",
       "      <td>4.0</td>\n",
       "    </tr>\n",
       "    <tr>\n",
       "      <th>1</th>\n",
       "      <td>01/02/23</td>\n",
       "      <td>0:00:19</td>\n",
       "      <td>0</td>\n",
       "      <td>5552</td>\n",
       "      <td>55.6</td>\n",
       "      <td>0.0</td>\n",
       "      <td>2208.14</td>\n",
       "      <td>2426.70</td>\n",
       "      <td>0</td>\n",
       "      <td>0</td>\n",
       "      <td>2023-02-01</td>\n",
       "      <td>19</td>\n",
       "      <td>134.924520</td>\n",
       "      <td>0.000000</td>\n",
       "      <td>Feburary</td>\n",
       "      <td>15.0</td>\n",
       "    </tr>\n",
       "    <tr>\n",
       "      <th>2</th>\n",
       "      <td>01/02/23</td>\n",
       "      <td>0:00:34</td>\n",
       "      <td>0</td>\n",
       "      <td>5552</td>\n",
       "      <td>55.6</td>\n",
       "      <td>0.0</td>\n",
       "      <td>2208.14</td>\n",
       "      <td>2426.70</td>\n",
       "      <td>0</td>\n",
       "      <td>0</td>\n",
       "      <td>2023-02-01</td>\n",
       "      <td>34</td>\n",
       "      <td>134.924520</td>\n",
       "      <td>0.000000</td>\n",
       "      <td>Feburary</td>\n",
       "      <td>15.0</td>\n",
       "    </tr>\n",
       "    <tr>\n",
       "      <th>3</th>\n",
       "      <td>01/02/23</td>\n",
       "      <td>0:00:49</td>\n",
       "      <td>0</td>\n",
       "      <td>5552</td>\n",
       "      <td>55.6</td>\n",
       "      <td>0.0</td>\n",
       "      <td>2208.14</td>\n",
       "      <td>2426.70</td>\n",
       "      <td>0</td>\n",
       "      <td>0</td>\n",
       "      <td>2023-02-01</td>\n",
       "      <td>49</td>\n",
       "      <td>134.924520</td>\n",
       "      <td>0.000000</td>\n",
       "      <td>Feburary</td>\n",
       "      <td>15.0</td>\n",
       "    </tr>\n",
       "    <tr>\n",
       "      <th>4</th>\n",
       "      <td>01/02/23</td>\n",
       "      <td>0:01:04</td>\n",
       "      <td>0</td>\n",
       "      <td>5552</td>\n",
       "      <td>55.6</td>\n",
       "      <td>0.0</td>\n",
       "      <td>2208.14</td>\n",
       "      <td>2426.70</td>\n",
       "      <td>0</td>\n",
       "      <td>0</td>\n",
       "      <td>2023-02-01</td>\n",
       "      <td>64</td>\n",
       "      <td>134.924520</td>\n",
       "      <td>0.000000</td>\n",
       "      <td>Feburary</td>\n",
       "      <td>15.0</td>\n",
       "    </tr>\n",
       "    <tr>\n",
       "      <th>...</th>\n",
       "      <td>...</td>\n",
       "      <td>...</td>\n",
       "      <td>...</td>\n",
       "      <td>...</td>\n",
       "      <td>...</td>\n",
       "      <td>...</td>\n",
       "      <td>...</td>\n",
       "      <td>...</td>\n",
       "      <td>...</td>\n",
       "      <td>...</td>\n",
       "      <td>...</td>\n",
       "      <td>...</td>\n",
       "      <td>...</td>\n",
       "      <td>...</td>\n",
       "      <td>...</td>\n",
       "      <td>...</td>\n",
       "    </tr>\n",
       "    <tr>\n",
       "      <th>170937</th>\n",
       "      <td>28/02/23</td>\n",
       "      <td>23:58:54</td>\n",
       "      <td>0</td>\n",
       "      <td>6276</td>\n",
       "      <td>55.6</td>\n",
       "      <td>0.0</td>\n",
       "      <td>2460.34</td>\n",
       "      <td>2773.22</td>\n",
       "      <td>0</td>\n",
       "      <td>0</td>\n",
       "      <td>2023-02-28</td>\n",
       "      <td>86334</td>\n",
       "      <td>154.191032</td>\n",
       "      <td>0.000000</td>\n",
       "      <td>Feburary</td>\n",
       "      <td>15.0</td>\n",
       "    </tr>\n",
       "    <tr>\n",
       "      <th>170938</th>\n",
       "      <td>28/02/23</td>\n",
       "      <td>23:59:09</td>\n",
       "      <td>0</td>\n",
       "      <td>6276</td>\n",
       "      <td>55.6</td>\n",
       "      <td>0.0</td>\n",
       "      <td>2460.34</td>\n",
       "      <td>2773.22</td>\n",
       "      <td>0</td>\n",
       "      <td>0</td>\n",
       "      <td>2023-02-28</td>\n",
       "      <td>86349</td>\n",
       "      <td>154.191032</td>\n",
       "      <td>0.000000</td>\n",
       "      <td>Feburary</td>\n",
       "      <td>15.0</td>\n",
       "    </tr>\n",
       "    <tr>\n",
       "      <th>170939</th>\n",
       "      <td>28/02/23</td>\n",
       "      <td>23:59:24</td>\n",
       "      <td>0</td>\n",
       "      <td>6276</td>\n",
       "      <td>55.4</td>\n",
       "      <td>0.0</td>\n",
       "      <td>2460.34</td>\n",
       "      <td>2773.22</td>\n",
       "      <td>0</td>\n",
       "      <td>0</td>\n",
       "      <td>2023-02-28</td>\n",
       "      <td>86364</td>\n",
       "      <td>153.636388</td>\n",
       "      <td>-0.554644</td>\n",
       "      <td>Feburary</td>\n",
       "      <td>15.0</td>\n",
       "    </tr>\n",
       "    <tr>\n",
       "      <th>170940</th>\n",
       "      <td>28/02/23</td>\n",
       "      <td>23:59:39</td>\n",
       "      <td>0</td>\n",
       "      <td>6276</td>\n",
       "      <td>55.5</td>\n",
       "      <td>0.0</td>\n",
       "      <td>2460.34</td>\n",
       "      <td>2773.22</td>\n",
       "      <td>0</td>\n",
       "      <td>0</td>\n",
       "      <td>2023-02-28</td>\n",
       "      <td>86379</td>\n",
       "      <td>153.913710</td>\n",
       "      <td>0.277322</td>\n",
       "      <td>Feburary</td>\n",
       "      <td>15.0</td>\n",
       "    </tr>\n",
       "    <tr>\n",
       "      <th>170941</th>\n",
       "      <td>28/02/23</td>\n",
       "      <td>23:59:54</td>\n",
       "      <td>0</td>\n",
       "      <td>6276</td>\n",
       "      <td>55.6</td>\n",
       "      <td>0.0</td>\n",
       "      <td>2460.34</td>\n",
       "      <td>2773.22</td>\n",
       "      <td>0</td>\n",
       "      <td>0</td>\n",
       "      <td>2023-02-28</td>\n",
       "      <td>86394</td>\n",
       "      <td>154.191032</td>\n",
       "      <td>0.277322</td>\n",
       "      <td>Feburary</td>\n",
       "      <td>15.0</td>\n",
       "    </tr>\n",
       "  </tbody>\n",
       "</table>\n",
       "<p>170942 rows × 16 columns</p>\n",
       "</div>"
      ],
      "text/plain": [
       "            date      time  speed   odo  batVolt  batCurrent  \\\n",
       "0       01/02/23   0:00:04      0  5552     55.6         0.0   \n",
       "1       01/02/23   0:00:19      0  5552     55.6         0.0   \n",
       "2       01/02/23   0:00:34      0  5552     55.6         0.0   \n",
       "3       01/02/23   0:00:49      0  5552     55.6         0.0   \n",
       "4       01/02/23   0:01:04      0  5552     55.6         0.0   \n",
       "...          ...       ...    ...   ...      ...         ...   \n",
       "170937  28/02/23  23:58:54      0  6276     55.6         0.0   \n",
       "170938  28/02/23  23:59:09      0  6276     55.6         0.0   \n",
       "170939  28/02/23  23:59:24      0  6276     55.4         0.0   \n",
       "170940  28/02/23  23:59:39      0  6276     55.5         0.0   \n",
       "170941  28/02/23  23:59:54      0  6276     55.6         0.0   \n",
       "\n",
       "        cummulativeCharge  cummulativeDischarge  chargeStatus  \\\n",
       "0                 2208.14               2426.70             0   \n",
       "1                 2208.14               2426.70             0   \n",
       "2                 2208.14               2426.70             0   \n",
       "3                 2208.14               2426.70             0   \n",
       "4                 2208.14               2426.70             0   \n",
       "...                   ...                   ...           ...   \n",
       "170937            2460.34               2773.22             0   \n",
       "170938            2460.34               2773.22             0   \n",
       "170939            2460.34               2773.22             0   \n",
       "170940            2460.34               2773.22             0   \n",
       "170941            2460.34               2773.22             0   \n",
       "\n",
       "        dischargeStatus DateModified  Time_seconds   Energy_Wh  \\\n",
       "0                     0   2023-02-01             4  134.924520   \n",
       "1                     0   2023-02-01            19  134.924520   \n",
       "2                     0   2023-02-01            34  134.924520   \n",
       "3                     0   2023-02-01            49  134.924520   \n",
       "4                     0   2023-02-01            64  134.924520   \n",
       "...                 ...          ...           ...         ...   \n",
       "170937                0   2023-02-28         86334  154.191032   \n",
       "170938                0   2023-02-28         86349  154.191032   \n",
       "170939                0   2023-02-28         86364  153.636388   \n",
       "170940                0   2023-02-28         86379  153.913710   \n",
       "170941                0   2023-02-28         86394  154.191032   \n",
       "\n",
       "        EnergyConsumed     Month  TimeDifference  \n",
       "0                  NaN  Feburary             4.0  \n",
       "1             0.000000  Feburary            15.0  \n",
       "2             0.000000  Feburary            15.0  \n",
       "3             0.000000  Feburary            15.0  \n",
       "4             0.000000  Feburary            15.0  \n",
       "...                ...       ...             ...  \n",
       "170937        0.000000  Feburary            15.0  \n",
       "170938        0.000000  Feburary            15.0  \n",
       "170939       -0.554644  Feburary            15.0  \n",
       "170940        0.277322  Feburary            15.0  \n",
       "170941        0.277322  Feburary            15.0  \n",
       "\n",
       "[170942 rows x 16 columns]"
      ]
     },
     "execution_count": 170,
     "metadata": {},
     "output_type": "execute_result"
    }
   ],
   "source": [
    "OneMonth.df"
   ]
  },
  {
   "attachments": {},
   "cell_type": "markdown",
   "metadata": {},
   "source": [
    "<h3>Function for calculating the mileage for a given dataframe <b>df</b> and modified dataframe <b>df2</b></h3>"
   ]
  },
  {
   "cell_type": "code",
   "execution_count": 171,
   "metadata": {},
   "outputs": [
    {
     "data": {
      "text/plain": [
       "array([ 14.91080278,  14.18066078,  14.46370074,  76.3542495 ,\n",
       "        32.2289415 ,  13.68202262,  13.61638111,  13.67347707,\n",
       "        11.2380139 ,  17.11228845,  22.66830467,  14.17972833,\n",
       "        14.97751311,  15.37750294,  16.99555321,  11.52095049,\n",
       "        12.51076856,  16.01724233,  22.1474355 ,  15.24381776,\n",
       "        17.95714377,  11.21051476, 680.373762  ,  12.95308736,\n",
       "        17.50353474])"
      ]
     },
     "execution_count": 171,
     "metadata": {},
     "output_type": "execute_result"
    }
   ],
   "source": [
    "def CalMileage(data):\n",
    "    # dates=data.df2['date'].unique()\n",
    "    #print(type(dates))\n",
    "    # MileageArray=np.array([])\n",
    "    #distance={}\n",
    "    for i in data.dates:\n",
    "        odo=data.df2.loc[data.df2['date']==i,'odo'].iloc[-1]-data.df2.loc[data.df2['date']==i,'odo'].iloc[0]\n",
    "        #print(odo,end=\", \")\n",
    "        #distance[i]=odo\n",
    "        if(odo>0):\n",
    "            data.MileageArray=np.append(data.MileageArray,((((data.df2.loc[data.df2['date']==i,'EnergyConsumed']).sum())/odo)))\n",
    "        data.df.loc[data.df['date']==i,'mileage']=(((data.df2.loc[data.df2['date']==i,'EnergyConsumed']).sum())/odo) if odo>0 else -1 #for not defined.\n",
    "CalMileage(OneMonth)\n",
    "OneMonth.MileageArray"
   ]
  },
  {
   "cell_type": "code",
   "execution_count": 172,
   "metadata": {},
   "outputs": [
    {
     "data": {
      "text/plain": [
       "array([], dtype=float64)"
      ]
     },
     "execution_count": 172,
     "metadata": {},
     "output_type": "execute_result"
    }
   ],
   "source": [
    "indices=OneMonth.MileageArray[OneMonth.MileageArray==-1]\n",
    "indices"
   ]
  },
  {
   "cell_type": "code",
   "execution_count": 173,
   "metadata": {},
   "outputs": [],
   "source": [
    "def indexDates(date):\n",
    "    return (date.split('/'))[0]"
   ]
  },
  {
   "cell_type": "code",
   "execution_count": 174,
   "metadata": {},
   "outputs": [
    {
     "data": {
      "text/plain": [
       "<matplotlib.legend.Legend at 0x12f747fd0>"
      ]
     },
     "execution_count": 174,
     "metadata": {},
     "output_type": "execute_result"
    },
    {
     "data": {
      "image/png": "[encoded data removed]",
      "text/plain": [
       "<Figure size 640x480 with 1 Axes>"
      ]
     },
     "metadata": {},
     "output_type": "display_data"
    }
   ],
   "source": [
    "#df2.loc[df1['date']=='04/02/23','EnergyConsumed'].sum()\n",
    "#df2['DateModified']=df2['date'].map(string_split)\n",
    "for i in (OneMonth.df['Month'].unique()):\n",
    "    plt.scatter(OneMonth.df['date'][(OneMonth.df['mileage']!=-1)&(OneMonth.df['Month']==i)].map(indexDates),OneMonth.df['mileage'][(OneMonth.df['mileage']!=-1)&(OneMonth.df['Month']==i)])\n",
    "plt.ylim(0,200)\n",
    "plt.ylabel('Mileage in Wh/km')\n",
    "plt.xlabel('Date')\n",
    "plt.legend(OneMonth.df['Month'].unique())"
   ]
  },
  {
   "attachments": {},
   "cell_type": "markdown",
   "metadata": {},
   "source": [
    "<h2>Correlation between mileage and speed\n",
    "</h2>"
   ]
  },
  {
   "cell_type": "code",
   "execution_count": 175,
   "metadata": {},
   "outputs": [
    {
     "data": {
      "text/plain": [
       "array([23.81957187, 25.04153355, 23.95918367,  7.18604651,  8.49295775,\n",
       "       21.88451444, 23.32153392, 21.48768473, 19.75853659, 22.06060606,\n",
       "       10.7133758 , 12.08163265, 22.59475219, 24.93406593, 22.92476489,\n",
       "       22.3907455 , 21.64814815, 10.06547619, 11.875     , 21.50543478,\n",
       "       19.59638554, 19.33148148, 17.54166667, 23.17663043, 20.0698324 ])"
      ]
     },
     "execution_count": 175,
     "metadata": {},
     "output_type": "execute_result"
    }
   ],
   "source": [
    "def CalAverageSpeed(data):\n",
    "    for i in data.dates:\n",
    "        speed=data.df.loc[(data.df['date']==i)&(data.df['speed']!=0),'speed'].mean()\n",
    "        if(speed>0):\n",
    "            data.Speeds=np.append(data.Speeds,speed)\n",
    "        data.df.loc[data.df['date']==i,'AverageSpeed_Kmph']=speed\n",
    "CalAverageSpeed(OneMonth)\n",
    "OneMonth.Speeds"
   ]
  },
  {
   "cell_type": "code",
   "execution_count": 176,
   "metadata": {},
   "outputs": [
    {
     "name": "stdout",
     "output_type": "stream",
     "text": [
      "25 25\n"
     ]
    }
   ],
   "source": [
    "print(OneMonth.Speeds.size,OneMonth.MileageArray.size)"
   ]
  },
  {
   "cell_type": "code",
   "execution_count": 177,
   "metadata": {},
   "outputs": [
    {
     "data": {
      "text/plain": [
       "<matplotlib.collections.PathCollection at 0x16bd9bb50>"
      ]
     },
     "execution_count": 177,
     "metadata": {},
     "output_type": "execute_result"
    },
    {
     "data": {
      "image/png": "[encoded data removed]",
      "text/plain": [
       "<Figure size 640x480 with 1 Axes>"
      ]
     },
     "metadata": {},
     "output_type": "display_data"
    }
   ],
   "source": [
    "plt.scatter(OneMonth.df['DateModified'],OneMonth.df['AverageSpeed_Kmph'])"
   ]
  },
  {
   "cell_type": "code",
   "execution_count": 178,
   "metadata": {},
   "outputs": [
    {
     "data": {
      "text/plain": [
       "(0.0, 100.0)"
      ]
     },
     "execution_count": 178,
     "metadata": {},
     "output_type": "execute_result"
    },
    {
     "data": {
      "image/png": "[encoded data removed]",
      "text/plain": [
       "<Figure size 640x480 with 1 Axes>"
      ]
     },
     "metadata": {},
     "output_type": "display_data"
    }
   ],
   "source": [
    "plt.scatter(OneMonth.df['AverageSpeed_Kmph'],OneMonth.df['mileage'])\n",
    "plt.ylim(0,100)"
   ]
  },
  {
   "attachments": {},
   "cell_type": "markdown",
   "metadata": {},
   "source": [
    "<h3>Function for find the mean squared error and printing the function</h3>"
   ]
  },
  {
   "cell_type": "code",
   "execution_count": 179,
   "metadata": {},
   "outputs": [],
   "source": [
    "'''Function to calculate the mean squared error. 'true' is the actual value and 'pred' is the predicted value.'''\n",
    "def mean_squared_error(true,pred):\n",
    "    error=0\n",
    "    for i in range(0,true.size):\n",
    "        error+=(true[i]-pred[i])**2\n",
    "    return error\n",
    "def print_function(coff):\n",
    "    for i in range(0,coff.size):\n",
    "        print(coff[i],'x^',coff.size-i-1,end=\"+ \")"
   ]
  },
  {
   "attachments": {},
   "cell_type": "markdown",
   "metadata": {},
   "source": [
    "<h3>Finding the corelation between speed and mileage</h3>\n",
    "<p>In this code below we are basically finding the <strong>best</strong> function of degree n for this we are checking the error value for each value of degree of the polynomial.</p>"
   ]
  },
  {
   "cell_type": "code",
   "execution_count": 180,
   "metadata": {},
   "outputs": [
    {
     "name": "stdout",
     "output_type": "stream",
     "text": [
      "383915.522681052*383906.578889801*281736.2283203022*271221.4491116496*151993.6457944131*134007.76377894497*32391.794521652224*14259.879884076166*"
     ]
    },
    {
     "data": {
      "image/png": "[encoded data removed]",
      "text/plain": [
       "<Figure size 640x480 with 1 Axes>"
      ]
     },
     "metadata": {},
     "output_type": "display_data"
    }
   ],
   "source": [
    "BestFitFunction={}# Dict(key=deg, value=[functionvalues])\n",
    "min=0\n",
    "deg=2\n",
    "for i in range(2,10):\n",
    "    z=np.polyfit(OneMonth.Speeds,OneMonth.MileageArray,deg=i)\n",
    "    x=np.poly1d(z)\n",
    "    y=np.array([])\n",
    "    for j in OneMonth.Speeds:\n",
    "        y=np.append(y,x(j))\n",
    "    error=mean_squared_error(OneMonth.MileageArray,y)\n",
    "    print(error,end=\"*\")\n",
    "    match i:\n",
    "        case 2:\n",
    "            min=error\n",
    "            BestFitFunction[deg]=[z,y]\n",
    "        case default:\n",
    "            if error<min:\n",
    "                #print('Reached')\n",
    "                min=error\n",
    "                deg=i\n",
    "                BestFitFunction[deg]=[z,y]\n",
    "#print(deg,error)\n",
    "plt.scatter(OneMonth.Speeds,OneMonth.MileageArray,color='red')\n",
    "plt.scatter(OneMonth.Speeds,BestFitFunction[deg][1],color='black')\n",
    "plt.xlabel(\"Speed in Kmph\")\n",
    "plt.ylabel(\"Mileage in KWh/Km\")\n",
    "plt.legend(['Actual values','Predicted values'])\n",
    "plt.title('Coorelation between speed and mileage')\n",
    "plt.show()\n",
    "#print(BestFitFunction)"
   ]
  },
  {
   "cell_type": "code",
   "execution_count": 181,
   "metadata": {},
   "outputs": [
    {
     "name": "stdout",
     "output_type": "stream",
     "text": [
      "-6.850251296726788e-05 x^ 9+ 0.010396203687914496 x^ 8+ -0.6868194652975753 x^ 7+ 25.876904568700237 x^ 6+ -611.613976242166 x^ 5+ 9387.98687321698 x^ 4+ -93444.33167353043 x^ 3+ 580985.6467141634 x^ 2+ -2046284.8992710353 x^ 1+ 3110396.8605360333 x^ 0+ "
     ]
    }
   ],
   "source": [
    "print_function(BestFitFunction[deg][0])"
   ]
  },
  {
   "cell_type": "code",
   "execution_count": 147,
   "metadata": {},
   "outputs": [],
   "source": [
    "ThreeMonth=Data(pd.read_csv('3monthdata.csv',usecols=columns_to_pick))"
   ]
  },
  {
   "cell_type": "code",
   "execution_count": 152,
   "metadata": {},
   "outputs": [
    {
     "data": {
      "text/html": [
       "<div>\n",
       "<style scoped>\n",
       "    .dataframe tbody tr th:only-of-type {\n",
       "        vertical-align: middle;\n",
       "    }\n",
       "\n",
       "    .dataframe tbody tr th {\n",
       "        vertical-align: top;\n",
       "    }\n",
       "\n",
       "    .dataframe thead th {\n",
       "        text-align: right;\n",
       "    }\n",
       "</style>\n",
       "<table border=\"1\" class=\"dataframe\">\n",
       "  <thead>\n",
       "    <tr style=\"text-align: right;\">\n",
       "      <th></th>\n",
       "      <th>date</th>\n",
       "      <th>time</th>\n",
       "      <th>speed</th>\n",
       "      <th>odo</th>\n",
       "      <th>batVolt</th>\n",
       "      <th>batCurrent</th>\n",
       "      <th>cummulativeCharge</th>\n",
       "      <th>cummulativeDischarge</th>\n",
       "      <th>chargeStatus</th>\n",
       "      <th>dischargeStatus</th>\n",
       "      <th>DateModified</th>\n",
       "      <th>Time_seconds</th>\n",
       "      <th>Energy_Wh</th>\n",
       "      <th>EnergyConsumed</th>\n",
       "      <th>Month</th>\n",
       "      <th>TimeDifference</th>\n",
       "    </tr>\n",
       "  </thead>\n",
       "  <tbody>\n",
       "    <tr>\n",
       "      <th>0</th>\n",
       "      <td>01/12/22</td>\n",
       "      <td>0:00:05</td>\n",
       "      <td>0</td>\n",
       "      <td>4286</td>\n",
       "      <td>55.4</td>\n",
       "      <td>0.0</td>\n",
       "      <td>1806.03</td>\n",
       "      <td>1885.90</td>\n",
       "      <td>0</td>\n",
       "      <td>0</td>\n",
       "      <td>2022-12-01</td>\n",
       "      <td>5</td>\n",
       "      <td>104.478860</td>\n",
       "      <td>NaN</td>\n",
       "      <td>December</td>\n",
       "      <td>5.0</td>\n",
       "    </tr>\n",
       "    <tr>\n",
       "      <th>1</th>\n",
       "      <td>01/12/22</td>\n",
       "      <td>0:00:20</td>\n",
       "      <td>0</td>\n",
       "      <td>4286</td>\n",
       "      <td>55.4</td>\n",
       "      <td>0.0</td>\n",
       "      <td>1806.03</td>\n",
       "      <td>1885.90</td>\n",
       "      <td>0</td>\n",
       "      <td>0</td>\n",
       "      <td>2022-12-01</td>\n",
       "      <td>20</td>\n",
       "      <td>104.478860</td>\n",
       "      <td>0.000000</td>\n",
       "      <td>December</td>\n",
       "      <td>15.0</td>\n",
       "    </tr>\n",
       "    <tr>\n",
       "      <th>2</th>\n",
       "      <td>01/12/22</td>\n",
       "      <td>0:00:35</td>\n",
       "      <td>0</td>\n",
       "      <td>4286</td>\n",
       "      <td>55.4</td>\n",
       "      <td>0.0</td>\n",
       "      <td>1806.03</td>\n",
       "      <td>1885.90</td>\n",
       "      <td>0</td>\n",
       "      <td>0</td>\n",
       "      <td>2022-12-01</td>\n",
       "      <td>35</td>\n",
       "      <td>104.478860</td>\n",
       "      <td>0.000000</td>\n",
       "      <td>December</td>\n",
       "      <td>15.0</td>\n",
       "    </tr>\n",
       "    <tr>\n",
       "      <th>3</th>\n",
       "      <td>01/12/22</td>\n",
       "      <td>0:00:50</td>\n",
       "      <td>0</td>\n",
       "      <td>4286</td>\n",
       "      <td>55.4</td>\n",
       "      <td>0.0</td>\n",
       "      <td>1806.03</td>\n",
       "      <td>1885.90</td>\n",
       "      <td>0</td>\n",
       "      <td>0</td>\n",
       "      <td>2022-12-01</td>\n",
       "      <td>50</td>\n",
       "      <td>104.478860</td>\n",
       "      <td>0.000000</td>\n",
       "      <td>December</td>\n",
       "      <td>15.0</td>\n",
       "    </tr>\n",
       "    <tr>\n",
       "      <th>4</th>\n",
       "      <td>01/12/22</td>\n",
       "      <td>0:01:05</td>\n",
       "      <td>0</td>\n",
       "      <td>4286</td>\n",
       "      <td>55.4</td>\n",
       "      <td>0.0</td>\n",
       "      <td>1806.03</td>\n",
       "      <td>1885.90</td>\n",
       "      <td>0</td>\n",
       "      <td>0</td>\n",
       "      <td>2022-12-01</td>\n",
       "      <td>65</td>\n",
       "      <td>104.478860</td>\n",
       "      <td>0.000000</td>\n",
       "      <td>December</td>\n",
       "      <td>15.0</td>\n",
       "    </tr>\n",
       "    <tr>\n",
       "      <th>...</th>\n",
       "      <td>...</td>\n",
       "      <td>...</td>\n",
       "      <td>...</td>\n",
       "      <td>...</td>\n",
       "      <td>...</td>\n",
       "      <td>...</td>\n",
       "      <td>...</td>\n",
       "      <td>...</td>\n",
       "      <td>...</td>\n",
       "      <td>...</td>\n",
       "      <td>...</td>\n",
       "      <td>...</td>\n",
       "      <td>...</td>\n",
       "      <td>...</td>\n",
       "      <td>...</td>\n",
       "      <td>...</td>\n",
       "    </tr>\n",
       "    <tr>\n",
       "      <th>465418</th>\n",
       "      <td>28/02/23</td>\n",
       "      <td>23:58:54</td>\n",
       "      <td>0</td>\n",
       "      <td>6276</td>\n",
       "      <td>55.6</td>\n",
       "      <td>0.0</td>\n",
       "      <td>2460.34</td>\n",
       "      <td>2773.22</td>\n",
       "      <td>0</td>\n",
       "      <td>0</td>\n",
       "      <td>2023-02-28</td>\n",
       "      <td>86334</td>\n",
       "      <td>154.191032</td>\n",
       "      <td>0.000000</td>\n",
       "      <td>Feburary</td>\n",
       "      <td>15.0</td>\n",
       "    </tr>\n",
       "    <tr>\n",
       "      <th>465419</th>\n",
       "      <td>28/02/23</td>\n",
       "      <td>23:59:09</td>\n",
       "      <td>0</td>\n",
       "      <td>6276</td>\n",
       "      <td>55.6</td>\n",
       "      <td>0.0</td>\n",
       "      <td>2460.34</td>\n",
       "      <td>2773.22</td>\n",
       "      <td>0</td>\n",
       "      <td>0</td>\n",
       "      <td>2023-02-28</td>\n",
       "      <td>86349</td>\n",
       "      <td>154.191032</td>\n",
       "      <td>0.000000</td>\n",
       "      <td>Feburary</td>\n",
       "      <td>15.0</td>\n",
       "    </tr>\n",
       "    <tr>\n",
       "      <th>465420</th>\n",
       "      <td>28/02/23</td>\n",
       "      <td>23:59:24</td>\n",
       "      <td>0</td>\n",
       "      <td>6276</td>\n",
       "      <td>55.4</td>\n",
       "      <td>0.0</td>\n",
       "      <td>2460.34</td>\n",
       "      <td>2773.22</td>\n",
       "      <td>0</td>\n",
       "      <td>0</td>\n",
       "      <td>2023-02-28</td>\n",
       "      <td>86364</td>\n",
       "      <td>153.636388</td>\n",
       "      <td>-0.554644</td>\n",
       "      <td>Feburary</td>\n",
       "      <td>15.0</td>\n",
       "    </tr>\n",
       "    <tr>\n",
       "      <th>465421</th>\n",
       "      <td>28/02/23</td>\n",
       "      <td>23:59:39</td>\n",
       "      <td>0</td>\n",
       "      <td>6276</td>\n",
       "      <td>55.5</td>\n",
       "      <td>0.0</td>\n",
       "      <td>2460.34</td>\n",
       "      <td>2773.22</td>\n",
       "      <td>0</td>\n",
       "      <td>0</td>\n",
       "      <td>2023-02-28</td>\n",
       "      <td>86379</td>\n",
       "      <td>153.913710</td>\n",
       "      <td>0.277322</td>\n",
       "      <td>Feburary</td>\n",
       "      <td>15.0</td>\n",
       "    </tr>\n",
       "    <tr>\n",
       "      <th>465422</th>\n",
       "      <td>28/02/23</td>\n",
       "      <td>23:59:54</td>\n",
       "      <td>0</td>\n",
       "      <td>6276</td>\n",
       "      <td>55.6</td>\n",
       "      <td>0.0</td>\n",
       "      <td>2460.34</td>\n",
       "      <td>2773.22</td>\n",
       "      <td>0</td>\n",
       "      <td>0</td>\n",
       "      <td>2023-02-28</td>\n",
       "      <td>86394</td>\n",
       "      <td>154.191032</td>\n",
       "      <td>0.277322</td>\n",
       "      <td>Feburary</td>\n",
       "      <td>15.0</td>\n",
       "    </tr>\n",
       "  </tbody>\n",
       "</table>\n",
       "<p>465423 rows × 16 columns</p>\n",
       "</div>"
      ],
      "text/plain": [
       "            date      time  speed   odo  batVolt  batCurrent  \\\n",
       "0       01/12/22   0:00:05      0  4286     55.4         0.0   \n",
       "1       01/12/22   0:00:20      0  4286     55.4         0.0   \n",
       "2       01/12/22   0:00:35      0  4286     55.4         0.0   \n",
       "3       01/12/22   0:00:50      0  4286     55.4         0.0   \n",
       "4       01/12/22   0:01:05      0  4286     55.4         0.0   \n",
       "...          ...       ...    ...   ...      ...         ...   \n",
       "465418  28/02/23  23:58:54      0  6276     55.6         0.0   \n",
       "465419  28/02/23  23:59:09      0  6276     55.6         0.0   \n",
       "465420  28/02/23  23:59:24      0  6276     55.4         0.0   \n",
       "465421  28/02/23  23:59:39      0  6276     55.5         0.0   \n",
       "465422  28/02/23  23:59:54      0  6276     55.6         0.0   \n",
       "\n",
       "        cummulativeCharge  cummulativeDischarge  chargeStatus  \\\n",
       "0                 1806.03               1885.90             0   \n",
       "1                 1806.03               1885.90             0   \n",
       "2                 1806.03               1885.90             0   \n",
       "3                 1806.03               1885.90             0   \n",
       "4                 1806.03               1885.90             0   \n",
       "...                   ...                   ...           ...   \n",
       "465418            2460.34               2773.22             0   \n",
       "465419            2460.34               2773.22             0   \n",
       "465420            2460.34               2773.22             0   \n",
       "465421            2460.34               2773.22             0   \n",
       "465422            2460.34               2773.22             0   \n",
       "\n",
       "        dischargeStatus DateModified  Time_seconds   Energy_Wh  \\\n",
       "0                     0   2022-12-01             5  104.478860   \n",
       "1                     0   2022-12-01            20  104.478860   \n",
       "2                     0   2022-12-01            35  104.478860   \n",
       "3                     0   2022-12-01            50  104.478860   \n",
       "4                     0   2022-12-01            65  104.478860   \n",
       "...                 ...          ...           ...         ...   \n",
       "465418                0   2023-02-28         86334  154.191032   \n",
       "465419                0   2023-02-28         86349  154.191032   \n",
       "465420                0   2023-02-28         86364  153.636388   \n",
       "465421                0   2023-02-28         86379  153.913710   \n",
       "465422                0   2023-02-28         86394  154.191032   \n",
       "\n",
       "        EnergyConsumed     Month  TimeDifference  \n",
       "0                  NaN  December             5.0  \n",
       "1             0.000000  December            15.0  \n",
       "2             0.000000  December            15.0  \n",
       "3             0.000000  December            15.0  \n",
       "4             0.000000  December            15.0  \n",
       "...                ...       ...             ...  \n",
       "465418        0.000000  Feburary            15.0  \n",
       "465419        0.000000  Feburary            15.0  \n",
       "465420       -0.554644  Feburary            15.0  \n",
       "465421        0.277322  Feburary            15.0  \n",
       "465422        0.277322  Feburary            15.0  \n",
       "\n",
       "[465423 rows x 16 columns]"
      ]
     },
     "execution_count": 152,
     "metadata": {},
     "output_type": "execute_result"
    }
   ],
   "source": [
    "ThreeMonth.df"
   ]
  },
  {
   "cell_type": "code",
   "execution_count": 182,
   "metadata": {},
   "outputs": [],
   "source": [
    "CalMileage(ThreeMonth)\n",
    "CalAverageSpeed(ThreeMonth)"
   ]
  },
  {
   "cell_type": "code",
   "execution_count": 183,
   "metadata": {},
   "outputs": [
    {
     "data": {
      "image/png": "[encoded data removed]",
      "text/plain": [
       "<Figure size 640x480 with 1 Axes>"
      ]
     },
     "metadata": {},
     "output_type": "display_data"
    }
   ],
   "source": [
    "for i in (ThreeMonth.df['Month'].unique()):\n",
    "    plt.scatter(ThreeMonth.df['date'][(ThreeMonth.df['mileage']!=-1)&(ThreeMonth.df['Month']==i)].map(indexDates),ThreeMonth.df['mileage'][(ThreeMonth.df['mileage']!=-1)&(ThreeMonth.df['Month']==i)])\n",
    "plt.ylim(0,200)\n",
    "plt.ylabel('Mileage in Wh/km')\n",
    "plt.xlabel('Date')\n",
    "plt.legend(ThreeMonth.df['Month'].unique())\n",
    "plt.show()"
   ]
  },
  {
   "cell_type": "code",
   "execution_count": 190,
   "metadata": {},
   "outputs": [
    {
     "name": "stdout",
     "output_type": "stream",
     "text": [
      "228 222\n",
      "25 25\n"
     ]
    }
   ],
   "source": [
    "print(len(ThreeMonth.Speeds),len(ThreeMonth.MileageArray))\n",
    "print(OneMonth.Speeds.size,OneMonth.MileageArray.size)"
   ]
  },
  {
   "cell_type": "code",
   "execution_count": 202,
   "metadata": {},
   "outputs": [
    {
     "name": "stdout",
     "output_type": "stream",
     "text": [
      "4\n"
     ]
    }
   ],
   "source": [
    "Minerror=0\n",
    "deg=2\n",
    "for i in range(2,10):\n",
    "    z=BestFitFunction[i][0]\n",
    "    function=np.poly1d(z)\n",
    "    y=np.array([])\n",
    "    for j in ThreeMonth.Speeds[:-6]:\n",
    "        y=np.append(y,function(j))\n",
    "    error=mean_squared_error(ThreeMonth.MileageArray,y)\n",
    "    if(i==2):\n",
    "        Minerror=error\n",
    "    elif Minerror>error:\n",
    "        Minerror=error\n",
    "        deg=i\n",
    "print(deg)"
   ]
  },
  {
   "cell_type": "code",
   "execution_count": 203,
   "metadata": {},
   "outputs": [
    {
     "data": {
      "text/plain": [
       "<matplotlib.collections.PathCollection at 0x12f778280>"
      ]
     },
     "execution_count": 203,
     "metadata": {},
     "output_type": "execute_result"
    },
    {
     "data": {
      "image/png": "[encoded data removed]",
      "text/plain": [
       "<Figure size 640x480 with 1 Axes>"
      ]
     },
     "metadata": {},
     "output_type": "display_data"
    }
   ],
   "source": [
    "z=BestFitFunction[4][0]\n",
    "function=np.poly1d(z)\n",
    "y=np.array([])\n",
    "for j in ThreeMonth.Speeds[:-6]:\n",
    "    y=np.append(y,function(j))\n",
    "plt.scatter(ThreeMonth.Speeds[:-6],ThreeMonth.MileageArray)\n",
    "plt.scatter(ThreeMonth.Speeds[:-6],y)"
   ]
  }
 ],
 "metadata": {
  "kernelspec": {
   "display_name": "Python 3 (ipykernel)",
   "language": "python",
   "name": "python3"
  },
  "language_info": {
   "codemirror_mode": {
    "name": "ipython",
    "version": 3
   },
   "file_extension": ".py",
   "mimetype": "text/x-python",
   "name": "python",
   "nbconvert_exporter": "python",
   "pygments_lexer": "ipython3",
   "version": "3.10.11"
  }
 },
 "nbformat": 4,
 "nbformat_minor": 2
}
