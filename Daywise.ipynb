{
 "cells": [
  {
   "cell_type": "code",
   "execution_count": null,
   "metadata": {},
   "outputs": [],
   "source": [
    "import numpy as np\n",
    "import pandas as pd\n",
    "import datetime\n",
    "import matplotlib.pyplot as plt"
   ]
  },
  {
   "cell_type": "code",
   "execution_count": null,
   "metadata": {},
   "outputs": [],
   "source": [
    "def to_seconds(str):\n",
    "        splitted=str.split(':')\n",
    "        return (int(splitted[0])*3600+int(splitted[1])*60+int(splitted[2]))\n",
    "\n",
    "def string_split(str):\n",
    "    a=str.split('/')\n",
    "    day,month,year=int(a[0]),int(a[1]),int(a[2])\n",
    "    return datetime.datetime(day=day,month=month,year=2000+year)\n",
    "\n",
    "def month(str):\n",
    "        month=str.split('/')[1]\n",
    "        months={1:'January',2:'Feburary',3:'March',4:'April',5:'May',6:'June',7:'July',8:'August',9:'September',10:'October',11:'November',12:'December'}\n",
    "        return months[int(month)]\n",
    "\n",
    "def indexDates(date):\n",
    "    return (date.split('/'))[0]"
   ]
  },
  {
   "cell_type": "code",
   "execution_count": 53,
   "metadata": {},
   "outputs": [],
   "source": [
    "class Data:\n",
    "    #This is the main dataFrame or the parent Dataframe\n",
    "    df=pd.DataFrame({})\n",
    "    #This is the child dataFrame derived from the first one.\n",
    "    df2=pd.DataFrame({}) \n",
    "    # S={}\n",
    "    MileageArray=np.array([])\n",
    "    #For storing the average speeds of the given data\n",
    "    Speeds=np.array([])\n",
    "    #For storing all the unique dates in the given data\n",
    "    dates=np.array([])\n",
    "    #Storing the dataframe for each date in that month. {key=datetime object and value = dataframe}\n",
    "    DayWise={}\n",
    "    #It is storing the odometer readings.\n",
    "    odo={}\n",
    "     #In the constructor we are doing all the precalculations like:\n",
    "    '''\n",
    "        1. Sorting the data according to date and time\n",
    "        2. Reseting the indices after the sorting\n",
    "        3. Defining the Energy Column\n",
    "        4. Defining the Energy Consumed Column\n",
    "        5. Identifying all the unique dates and storing it in 'dates'.\n",
    "    '''\n",
    "    def __init__(self,dataframe):\n",
    "        self.df=dataframe\n",
    "        \n",
    "\n",
    "        '''Here we are sorting the data on the basis of both date and time'''\n",
    "        self.df['DateModified']=self.df['date'].map(string_split)\n",
    "        self.df['Time_seconds']=self.df['time'].map(to_seconds)\n",
    "        self.df.sort_values(['DateModified','Time_seconds'],inplace=True)\n",
    "        \n",
    "        #The distance needs to be calculated before we filter the data.\n",
    "        #self.df['Distance']=self.df['odo'].diff(1).fillna(np.nan)\n",
    "        self.df['Energy_Wh']=(self.df['cummulativeDischarge']*self.df['batVolt'])/1000\n",
    "        self.df['EnergyConsumed']=(self.df['Energy_Wh']).diff(-1).fillna(0)\n",
    "        self.df2=self.df.drop(np.append(self.df.loc[self.df['EnergyConsumed']<=0].index,[self.df.head(1).index,self.df.tail(1).index]))\n",
    "        #self.df['mileage']=self.df['EnergyConsumed']/self.df['Distance']\n",
    "\n",
    "        self.dates=self.df['date'].unique()\n",
    "        self.df.reset_index(inplace=True,drop=True)\n",
    "        self.df['Month']=self.df['date'].map(month) \n",
    "        # for i in self.dates:\n",
    "        #     temp=np.array([],dtype=np.float64)\n",
    "        #     uniqueOdometer=self.df.loc[self.df['date']==i,'odo'].unique()\n",
    "        #     for j in uniqueOdometer:\n",
    "        #         temp=np.append(temp,self.df[])\n",
    "        self.filterData()\n",
    "\n",
    "    #In this function we are filtering the data on the basis of the zero current values.\n",
    "    def filterData(self):\n",
    "        for i in self.dates:\n",
    "            df3=pd.DataFrame({}) #contains the datapoints where odometer reading  is changing.\n",
    "            uniqueOdo=((self.df.loc[self.df['date']==i,'odo']).unique())\n",
    "            #print(uniqueOdo)\n",
    "            uniqueOdoIndex=np.array([],dtype=np.int64)\n",
    "            Mileage=np.array([],dtype=np.float64)\n",
    "            for j in uniqueOdo:\n",
    "                uniqueOdoIndex=np.append(uniqueOdoIndex,self.df.loc[(self.df['odo']==j)&(self.df['date']==i),'odo'].head(1).index)\n",
    "                Mileage=np.append(Mileage,self.df2.loc[(self.df2['date']==i)&(self.df2['odo']==j)&(self.df2['EnergyConsumed']!=np.nan),'EnergyConsumed'].sum())\n",
    "            df3=self.df.loc[uniqueOdoIndex]\n",
    "\n",
    "            \n",
    "            df3['Distance']=(df3['odo'].diff(1)).fillna(-1)\n",
    "            df3['TimeDifference_seconds']=(df3['Time_seconds'].diff(1).fillna(-1))\n",
    "    \n",
    "            #Here we are calculating the mileage by finding the net energy spent in that day.\n",
    "            Mileage\n",
    "            df3['mileage']=pd.Series(Mileage)\n",
    "            df3['AvgSpeed']=df3['Distance']/(df3['TimeDifference_seconds']/3600)\n",
    "            df3.reset_index(drop=True,inplace=True)\n",
    "            self.DayWise[i]=df3\n",
    "    "
   ]
  },
  {
   "cell_type": "code",
   "execution_count": null,
   "metadata": {},
   "outputs": [],
   "source": [
    "columns_to_pick=['date','time','speed','odo','batVolt','batCurrent','cummulativeCharge','cummulativeDischarge','chargeStatus','dischargeStatus']\n",
    "df=pd.read_csv('1monthdata.csv',usecols=columns_to_pick)\n",
    "df"
   ]
  },
  {
   "cell_type": "code",
   "execution_count": 54,
   "metadata": {},
   "outputs": [],
   "source": [
    "OneMonth=Data(df)\n",
    "#OneMonth.df2"
   ]
  },
  {
   "cell_type": "code",
   "execution_count": null,
   "metadata": {},
   "outputs": [],
   "source": [
    "OneMonth.DayWise['01/02/23']"
   ]
  },
  {
   "cell_type": "code",
   "execution_count": null,
   "metadata": {},
   "outputs": [],
   "source": [
    "uniqueOdo=type((OneMonth.df['odo'][df['date']=='01/02/23']).unique()[0])\n",
    "uniqueOdo\n",
    "# uniqueOdoIndex=np.array([])\n",
    "# for j in uniqueOdo:\n",
    "#     uniqueOdoIndex=np.append(uniqueOdoIndex,(OneMonth.df['odo'][OneMonth.df['odo']==j]).head(1))\n",
    "#     print(uniqueOdoIndex)"
   ]
  },
  {
   "cell_type": "code",
   "execution_count": null,
   "metadata": {},
   "outputs": [],
   "source": [
    "((OneMonth.df['odo'][OneMonth.df['date']=='01/02/23']).unique())"
   ]
  },
  {
   "cell_type": "code",
   "execution_count": null,
   "metadata": {},
   "outputs": [],
   "source": [
    "OneMonth.DayWise['01/02/23'].loc[2,'mileage']"
   ]
  },
  {
   "cell_type": "code",
   "execution_count": null,
   "metadata": {},
   "outputs": [],
   "source": [
    "OneMonth.df2"
   ]
  },
  {
   "cell_type": "code",
   "execution_count": null,
   "metadata": {},
   "outputs": [],
   "source": [
    "plt.plot(OneMonth.DayWise['01/02/23'].loc[1:,'AvgSpeed'],color='red')\n",
    "AvgSpeed=OneMonth.DayWise['01/02/23'].loc[1:,'AvgSpeed'].mean()\n",
    "# plt.plot(20,AvgSpeed,color='black')"
   ]
  },
  {
   "cell_type": "code",
   "execution_count": null,
   "metadata": {},
   "outputs": [],
   "source": []
  }
 ],
 "metadata": {
  "kernelspec": {
   "display_name": "ml",
   "language": "python",
   "name": "python3"
  },
  "language_info": {
   "codemirror_mode": {
    "name": "ipython",
    "version": 3
   },
   "file_extension": ".py",
   "mimetype": "text/x-python",
   "name": "python",
   "nbconvert_exporter": "python",
   "pygments_lexer": "ipython3",
   "version": "3.10.11"
  },
  "orig_nbformat": 4
 },
 "nbformat": 4,
 "nbformat_minor": 2
}
